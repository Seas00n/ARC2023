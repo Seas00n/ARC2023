{
 "cells": [
  {
   "attachments": {},
   "cell_type": "markdown",
   "metadata": {},
   "source": [
    "# Assignment3\n"
   ]
  },
  {
   "attachments": {},
   "cell_type": "markdown",
   "metadata": {},
   "source": [
    "## Q1\n",
    "![mr_3_20.png](img/mr_3_20.png)\n",
    "![mr_3_20_img.png](img/mr_3_20_img.png)\n"
   ]
  },
  {
   "attachments": {},
   "cell_type": "markdown",
   "metadata": {},
   "source": [
    "## Q2\n",
    "![mr_3_23.png](img/mr_3_23.png)\n",
    "![mr_3_23_img.png](img/mr_3_23_img.png)"
   ]
  },
  {
   "attachments": {},
   "cell_type": "markdown",
   "metadata": {},
   "source": [
    "## Q3\n",
    "![mr_3_27.png](img/mr_3_27.png)"
   ]
  },
  {
   "attachments": {},
   "cell_type": "markdown",
   "metadata": {},
   "source": [
    "## Q4\n",
    "![mr_3_28_1.png](img/mr_3_28_1.png)\n",
    "![mr_3_28_2.png](img/mr_3_28_2.png)"
   ]
  },
  {
   "attachments": {},
   "cell_type": "markdown",
   "metadata": {},
   "source": [
    "## Q5\n",
    "![mr_5_5.png](img/mr_5_5.png)"
   ]
  },
  {
   "attachments": {},
   "cell_type": "markdown",
   "metadata": {},
   "source": [
    "## Q6\n",
    "![mr_5_5.png](img/mr_5_6.png)\n",
    "![mr_5_6_img.png](img/mr_5_6.png)"
   ]
  }
 ],
 "metadata": {
  "language_info": {
   "name": "python"
  },
  "orig_nbformat": 4
 },
 "nbformat": 4,
 "nbformat_minor": 2
}
