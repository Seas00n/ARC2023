{
 "cells": [
  {
   "attachments": {},
   "cell_type": "markdown",
   "metadata": {},
   "source": [
    "# Assignment 4\n"
   ]
  },
  {
   "attachments": {},
   "cell_type": "markdown",
   "metadata": {},
   "source": [
    "## Q1\n",
    "<img src = './img/img1.png'>"
   ]
  },
  {
   "attachments": {},
   "cell_type": "markdown",
   "metadata": {},
   "source": [
    "The spatial velocity of the cylinder is $\\nu _{body}$.\n",
    "\n",
    "The coordinate of $\\nu _{body}$ in {o} is $^{o}\\nu _{body}$\n",
    "\n",
    "$$\n",
    "^{o}\\nu_{body} = \n",
    "\\begin{bmatrix}\n",
    "^{o}\\omega_{body} \\\\\n",
    "^{o}{v_q} _{body} - ^{o}\\omega_{body} \\times \\overrightarrow{OR}\n",
    "\\end{bmatrix} = \n",
    "\\begin{bmatrix}\n",
    "0 \\\\\n",
    "v/r\\\\\n",
    "0 \\\\\n",
    "0\\\\\n",
    "0\\\\\n",
    "v^2 t/r\n",
    "\\end{bmatrix}\n",
    "$$\n",
    "\n",
    "the spatial accel is\n",
    "$$\n",
    "^{o}A_{body} = \\frac{d}{dt}{^o\\nu_{body}}+^{o}\\nu \\times ^{o}\\nu_{body}= \n",
    "\\begin{bmatrix}\n",
    "0 \\\\\n",
    "0 \\\\\n",
    "0 \\\\\n",
    "0 \\\\\n",
    "0 \\\\\n",
    "v^2/r\n",
    "\\end{bmatrix}\n",
    "$$\n",
    "\n",
    "The adjoint matrix of $^{c}T_{o}$ is\n",
    "\n",
    "$$\n",
    "^{c}X_{o}=\n",
    "\\begin{bmatrix}\n",
    "^{c}R_{o} & 0\\\\\n",
    "[^{c}p_{o}]{^{c}R_{o}} & ^{c}R_{o}\n",
    "\\end{bmatrix}\n",
    "$$ \n"
   ]
  },
  {
   "cell_type": "code",
   "execution_count": 16,
   "metadata": {},
   "outputs": [
    {
     "name": "stdout",
     "output_type": "stream",
     "text": [
      "⎡0 ⎤\n",
      "⎢  ⎥\n",
      "⎢0 ⎥\n",
      "⎢  ⎥\n",
      "⎢0 ⎥\n",
      "⎢  ⎥\n",
      "⎢0 ⎥\n",
      "⎢  ⎥\n",
      "⎢0 ⎥\n",
      "⎢  ⎥\n",
      "⎢ 2⎥\n",
      "⎢v ⎥\n",
      "⎢──⎥\n",
      "⎣r ⎦\n"
     ]
    }
   ],
   "source": [
    "from sympy import *\n",
    "r = symbols('r')\n",
    "t = symbols('t')\n",
    "v = symbols('v')\n",
    "a_o = Matrix([0,0,0,0,0,v**2/r])\n",
    "Rac = eye(3,3)\n",
    "p_skew = Matrix([[0,0,0],\n",
    "                 [0,0,v*t],\n",
    "                 [0,-v*t,0]])\n",
    "Xac = zeros(6,6)\n",
    "Xac[0:3,0:3] = Rac\n",
    "Xac[3:6,3:6] = Rac\n",
    "Xac[3:6,0:3] = p_skew*Rac\n",
    "a_c = Xac*a_o\n",
    "pprint(a_c)"
   ]
  },
  {
   "attachments": {},
   "cell_type": "markdown",
   "metadata": {},
   "source": [
    "## Q2\n",
    "$$\n",
    "\\begin{aligned}\n",
    "\\frac{d}{dt}[^{o}X^{*}_{A}] \n",
    "\n",
    "\n",
    "&=\n",
    "\\frac{d}{dt}\n",
    "\\begin{bmatrix}\n",
    "R & [p]R \\\\\n",
    "0 &  R\n",
    "\\end{bmatrix}\\\\\n",
    "&=\n",
    "\\begin{bmatrix}\n",
    "[w]R & \\frac{d}{dt}[p]R+[p][w][R] \\\\\n",
    "0 &  [w][R]\n",
    "\\end{bmatrix}\\\\\n",
    "&=\n",
    "\\begin{bmatrix}\n",
    "[w]R & [v+w\\times p]R+[p][w][R] \\\\\n",
    "0 &  [w][R]\n",
    "\\end{bmatrix}\\\\\n",
    "&=\n",
    "\\begin{bmatrix}\n",
    "[w]R & [v]R+[w][p]R-[p][w]R+[p][w][R] \\\\\n",
    "0 &  [w][R]\n",
    "\\end{bmatrix}\\\\\n",
    "&=\n",
    "\\begin{bmatrix}\n",
    "[w]R & [v]R+[w][p]R \\\\\n",
    "0 &  [w][R]\n",
    "\\end{bmatrix}\\\\\n",
    "&=\n",
    "\\begin{bmatrix}\n",
    "[w] & [v] \\\\\n",
    "0 &  [w]\n",
    "\\end{bmatrix}\n",
    "\\begin{bmatrix}\n",
    "R & [p]R \\\\\n",
    "0 &  R\n",
    "\\end{bmatrix}\n",
    "\\end{aligned}\n",
    "$$"
   ]
  },
  {
   "attachments": {},
   "cell_type": "markdown",
   "metadata": {},
   "source": [
    "## Q3\n",
    "$$\n",
    "\\begin{aligned}\n",
    "\\phi_{q} &= \n",
    "\\sum_{i}\\overrightarrow{qp_i}\\times m_iv_i\\\\\n",
    "\n",
    "&=\\sum_{i}\\overrightarrow{qo}\\times{m_iv_i}+\\overrightarrow{op_i}\\times{m_iv_i}\\\\\n",
    "\n",
    "&=\\overrightarrow{qo}\\times\\sum_{i}m_iv_i +\n",
    "\\sum_{i}\\overrightarrow{opi}\\times m_iv_i \\\\\n",
    "&=\n",
    "\\phi _o+\\overrightarrow{qo} \\times L\n",
    "\n",
    "\\end{aligned}\n",
    "$$"
   ]
  },
  {
   "attachments": {},
   "cell_type": "markdown",
   "metadata": {},
   "source": [
    "## Q4\n",
    "\n"
   ]
  }
 ],
 "metadata": {
  "kernelspec": {
   "display_name": "Python 3",
   "language": "python",
   "name": "python3"
  },
  "language_info": {
   "codemirror_mode": {
    "name": "ipython",
    "version": 3
   },
   "file_extension": ".py",
   "mimetype": "text/x-python",
   "name": "python",
   "nbconvert_exporter": "python",
   "pygments_lexer": "ipython3",
   "version": "3.8.10"
  },
  "orig_nbformat": 4
 },
 "nbformat": 4,
 "nbformat_minor": 2
}
