{
 "cells": [
  {
   "cell_type": "markdown",
   "metadata": {},
   "source": [
    "# Assignmet 1"
   ]
  },
  {
   "cell_type": "code",
   "execution_count": 30,
   "metadata": {},
   "outputs": [],
   "source": [
    "import numpy as np\n",
    "import matplotlib.pyplot as plt"
   ]
  },
  {
   "cell_type": "markdown",
   "metadata": {},
   "source": [
    "## Lipschitz Continuity\n",
    "(1) Please state the formal definition of continuous functions\n",
    "\n",
    "(2) Please state the formal definitions of Lipschitz continuity and locally Lipschitz continuity."
   ]
  },
  {
   "cell_type": "markdown",
   "metadata": {},
   "source": [
    "### Ans:\n",
    "\n",
    "(1)A Continuous function a function such that a small change of thr argument induces a continuous variation of the function value.\n",
    "\n",
    "(2) Lipschitz continuity a strong form of uniform continuity. It limits how fast the function can change.(Lipschitz连续是一种特殊的连续)\n",
    "A real number function $f:R\\Rightarrow R$ is called Lipschitz continuous if there exist a positive real constant $K$such that, for all real number $x_{1}, $$x_{2}$,\n",
    "$$|f(x_{1})-f(x_{2})|\\leq K|x_{1}-x_{2}|$$\n",
    "(一阶导数有限)\n",
    "A function is called locally Lipschitz continuous if for every $x$ in $X$ there exists a neighborhood $U$ of $x$ such that $f$ in $U$ is Lipschitz continuous.\n",
    "(在去心邻域内Lipschitz连续)"
   ]
  },
  {
   "cell_type": "markdown",
   "metadata": {},
   "source": [
    "## Matrix Calculus\n",
    "(1)\n",
    "$$\n",
    "y=f:R^{n\\times m}\\Rightarrow R \\\\\n",
    "[\\frac{\\partial y}{\\partial X}]_{ij}=\\frac{\\partial y}{\\partial x_{ij}}\n",
    "$$\n",
    "\n",
    "(2)\n",
    "$$\n",
    "\\begin{align}\n",
    "y =& tr(AX) = \\sum_{j=1}^{n}\\sum_{i=1}^{m}a_{ji}x_{ij}\\quad \\\\\n",
    "[\\frac{\\partial{tr(AX)}}{\\partial X}]_{ij} =& \\frac{\\partial y}{\\partial x_{ij}}=a_{ji}\n",
    "\\frac{\\partial{tr(AX)}}{\\partial X} = A^{T}\n",
    "\\end{align}\n",
    "$$\n",
    "(3)\n",
    "$$\n",
    "\\begin{align}\n",
    "y =& f(x) = \\sum_{j=1}^{n}\\sum_{i=1}^{n}x_{j}x_{i}q_{ij}+\\sum_{i=1}^{n}x_{i}^2 \\\\\n",
    "[\\frac{\\partial y}{\\partial x}]_{k} =& \\frac{\\partial y}{\\partial x_{k}} = \\sum_{i=1}^{n}x_{i}(q_{ik}+q_{ki}) +2x_{k}\\\\\n",
    "\\frac{\\partial y}{\\partial x} =& (Q^{T}+Q)x+2x\n",
    "\\end{align}\n",
    "$$\n"
   ]
  },
  {
   "cell_type": "markdown",
   "metadata": {},
   "source": [
    "## Inner Product\n",
    "\n",
    "(a)\n",
    "$$\n",
    "    <x,y> = |x||y|cos(\\theta)\\\\\n",
    "    \\theta = arccos(\\frac{<x,y>}{|x||y|})\n",
    "$$\n",
    "(b)\n",
    "$$\n",
    "\\theta = arccos(\n",
    "\\frac{tr(A^{T}B)}{tr(A^{T}A)tr(B^{T}B)}\n",
    ")\n",
    "$$"
   ]
  },
  {
   "cell_type": "code",
   "execution_count": 37,
   "metadata": {},
   "outputs": [
    {
     "name": "stdout",
     "output_type": "stream",
     "text": [
      "0\n",
      "3\n",
      "8\n",
      "1.5707963267948966\n"
     ]
    }
   ],
   "source": [
    "A = np.array([[1,0,1],\n",
    "              [0,1,0]])\n",
    "B = np.array([[-1,2,1],\n",
    "              [-1,0,1]])\n",
    "inner_AB = np.trace(A.T.dot(B))\n",
    "norm_A = np.trace(A.T.dot(A))\n",
    "norm_B = np.trace(B.T.dot(B))\n",
    "print(inner_AB)\n",
    "print(norm_A)\n",
    "print(norm_B)\n",
    "theta = np.arccos(inner_AB/(norm_A*norm_B))\n",
    "print(theta)"
   ]
  },
  {
   "cell_type": "markdown",
   "metadata": {},
   "source": [
    "## Linear Algebra\n",
    "(a) $Ax$ is the linear combination of $A$, $b$ is in the column space of $A$\n",
    "\n",
    "(b)\n",
    "$rank(A) = n-2$\n",
    "$Null(A) = Span([1,-1,1,0]^{T},[1,0,1,-1]^{T} )$\n",
    "\n",
    "(c)\n",
    "if $Ax=b$ is the projection of $y$ on $Col(A)$, then $y-b$ is in null space of $A$\n",
    "$$\n",
    "\\begin{aligned}\n",
    "    A^{T}(y-Ax)=0\\\\\n",
    "    x = (A^{T}A)^{-1}A^{T}y\n",
    "\\end{aligned}\n",
    "$$\n"
   ]
  },
  {
   "cell_type": "markdown",
   "metadata": {},
   "source": [
    "## Ellipsoids\n",
    "(a)If we assume $u$ is a point on unit circle, then\n",
    "$$\n",
    "    u_{new1} = Pu+x_{c} \\\\\n",
    "    u_{new2} = Au+x_{c}\n",
    "$$\n",
    "so $A=P, b=x_{c}$\n",
    "\n",
    "Expression1 means ellipsoid is first removed to the zero point and then change to a unit circle by $P^{-1}$, and then moves back to $x_{c}$.\n",
    "\n",
    "Expression2 means the unit circle at the zero point is first changed to a Ellipsoids by matrix $A$ and then moves back to $x_{c}$."
   ]
  },
  {
   "cell_type": "code",
   "execution_count": 76,
   "metadata": {},
   "outputs": [
    {
     "name": "stdout",
     "output_type": "stream",
     "text": [
      "(2, 100)\n"
     ]
    },
    {
     "data": {
      "text/plain": [
       "[<matplotlib.lines.Line2D at 0x7f551f3fafd0>]"
      ]
     },
     "execution_count": 76,
     "metadata": {},
     "output_type": "execute_result"
    },
    {
     "data": {
      "image/png": "[encoded data removed]",
      "text/plain": [
       "<Figure size 640x480 with 1 Axes>"
      ]
     },
     "metadata": {},
     "output_type": "display_data"
    }
   ],
   "source": [
    "theta = np.linspace(0,2*np.pi,100)\n",
    "fig = plt.figure\n",
    "X = np.vstack([np.cos(theta),np.sin(theta)])\n",
    "plt.plot(X[0,:],X[1,:])\n",
    "P = np.array([[4,1],[1,4]])\n",
    "xc = np.array([1,2])\n",
    "X_new = np.zeros_like(X)\n",
    "print(X_new.shape)\n",
    "for i in range(np.size(X,1)):\n",
    "    x = X[:,i].reshape(2,1)\n",
    "    X_new[:,i] = x.T.dot(P)+xc.T\n",
    "plt.plot(X_new[0,:],X_new[1,:])"
   ]
  },
  {
   "cell_type": "markdown",
   "metadata": {},
   "source": [
    "## Linear System Solution\n",
    "\n",
    "By $||Ax_{1}-Ax_{2}||\\leq ||A||\\cdot||x_{1}-x_{2}||$ (Cauthy-Schiwz),\n",
    "\n",
    "$Ax(t)$ is Lipschitz continuous in x\n",
    "\n",
    "when $u(t)$ is piecewise continuous in $t$\n",
    "\n",
    "$f(x,t)=\\dot{x}(t) = Ax(t)+Bu(t)$ is Lipschitz continuous in $x$ and piecewise continuous in t\n",
    "\n",
    "The ODE equation has a unique solution.\n",
    "\n",
    "If $x(t) = \\cdots$ is a solution, it must satisfy I.C. condition and the system equation.\n",
    "\n",
    "First, when $t=0$, $x(t)=x_{0}$. So I.C is satisfied.\n",
    "\n",
    "Second, with\n",
    "$$\n",
    "e^{At} = I+At+\\frac{A^2t^2}{2!}+\\cdots \\\\\n",
    "\\frac{d}{dt}\\int_{0}^{t}F(\\tau)d\\tau = F(t)\n",
    "$$\n",
    "$$\n",
    "\\begin{align}\n",
    "\\dot{x}(t)\n",
    "=&\\frac{d}{dt} e^{At}x_0+\\frac{d}{dt}\\int_{0}^{t}e^{A(t-\\tau)}Bu(\\tau)d\\tau  \\\\\n",
    "=& \\frac{d}{dt}(I+At+\\frac{A^2t^2}{2!}+\\cdots)x_0+\\frac{d}{dt}[e^{At}\\int_{0}^{t}e^{-A\\tau}Bu(\\tau)d\\tau] \\\\\n",
    "=& Ae^{At}x_0+Ae^{At}\\int_{0}^{t}e^{-A\\tau}Bu(\\tau)d\\tau+Bu(t)\\\\\n",
    "=& A[e^{At}x_{0}+\\int_{0}^{t}e^{A(t-\\tau)}Bu(\\tau)d\\tau]+Bu(t)\\\\\n",
    "=& Ax(t)+Bu(t)\n",
    "\\end{align}\n",
    "$$\n",
    "So it is a unique solution.\n"
   ]
  },
  {
   "cell_type": "markdown",
   "metadata": {},
   "source": []
  }
 ],
 "metadata": {
  "kernelspec": {
   "display_name": "Python 3 (ipykernel)",
   "language": "python",
   "name": "python3"
  },
  "language_info": {
   "codemirror_mode": {
    "name": "ipython",
    "version": 3
   },
   "file_extension": ".py",
   "mimetype": "text/x-python",
   "name": "python",
   "nbconvert_exporter": "python",
   "pygments_lexer": "ipython3",
   "version": "3.8.10"
  },
  "vscode": {
   "interpreter": {
    "hash": "916dbcbb3f70747c44a77c7bcd40155683ae19c65e1c03b4aa3499c5328201f1"
   }
  }
 },
 "nbformat": 4,
 "nbformat_minor": 2
}
