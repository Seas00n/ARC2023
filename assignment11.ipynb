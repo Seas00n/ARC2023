{
 "cells": [
  {
   "cell_type": "code",
   "execution_count": 57,
   "metadata": {
    "collapsed": true
   },
   "outputs": [
    {
     "name": "stdout",
     "output_type": "stream",
     "text": [
      "⎡-a₂⋅sin(θ₁)⋅cos(θ₂) - a₃⋅sin(θ₁)⋅cos(θ₂ + θ₃)                                \n",
      "⎢                                                                             \n",
      "⎢a₂⋅cos(θ₁)⋅cos(θ₂) + a₃⋅cos(θ₁)⋅cos(θ₂ + θ₃)                                 \n",
      "⎢                                                                             \n",
      "⎢                                                                             \n",
      "⎣                      0                        (a₂⋅sin(θ₁)⋅cos(θ₂) + a₃⋅sin(θ\n",
      "\n",
      "      -(a₂⋅sin(θ₂) + a₃⋅sin(θ₂ + θ₃))⋅cos(θ₁)                                 \n",
      "                                                                              \n",
      "      -(a₂⋅sin(θ₂) + a₃⋅sin(θ₂ + θ₃))⋅sin(θ₁)                                 \n",
      "                                                                              \n",
      "                                                                              \n",
      "₁)⋅cos(θ₂ + θ₃))⋅sin(θ₁) + (a₂⋅cos(θ₁)⋅cos(θ₂) + a₃⋅cos(θ₁)⋅cos(θ₂ + θ₃))⋅cos(\n",
      "\n",
      "                  -a₃⋅sin(θ₂ + θ₃)⋅cos(θ₁)              ⎤\n",
      "                                                        ⎥\n",
      "                  -a₃⋅sin(θ₁)⋅sin(θ₂ + θ₃)              ⎥\n",
      "                                                        ⎥\n",
      "           2                          2                 ⎥\n",
      "θ₁)  a₃⋅sin (θ₁)⋅cos(θ₂ + θ₃) + a₃⋅cos (θ₁)⋅cos(θ₂ + θ₃)⎦\n"
     ]
    }
   ],
   "source": [
    "from sympy import *\n",
    "[a1,a2,a3] = symbols(['a1','a2','a3'])\n",
    "[theta1,theta2,theta3] = symbols(['theta1','theta2','theta3'])\n",
    "o0 = Matrix([0,0,0])\n",
    "o1 = Matrix([0,0,a1])\n",
    "o2 = Matrix([a2*cos(theta1)*cos(theta2),\n",
    "             a2*sin(theta1)*cos(theta2),\n",
    "             a1+a2*sin(theta2)])\n",
    "oc = Matrix([a2*cos(theta1)*cos(theta2)+a3*cos(theta1)*cos(theta2+theta3),\n",
    "             a2*sin(theta1)*cos(theta2)+a3*sin(theta1)*cos(theta2+theta3),\n",
    "             a1+a2*sin(theta2)+a3*sin(theta2+theta3)])\n",
    "z0 = Matrix([0,0,1])\n",
    "z1 = z2 = Matrix([sin(theta1),-cos(theta1),0])\n",
    "J11 = Matrix([\n",
    "    z0.cross(oc-o0).T,\n",
    "    z1.cross(oc-o1).T,\n",
    "    z2.cross(oc-o2).T\n",
    "]).T\n",
    "pprint(J11)"
   ]
  },
  {
   "cell_type": "code",
   "execution_count": 62,
   "outputs": [
    {
     "data": {
      "text/plain": "-a2*a3*(a2*cos(theta2) + a3*cos(theta2 + theta3))*sin(theta3)",
      "text/latex": "$\\displaystyle - a_{2} a_{3} \\left(a_{2} \\cos{\\left(\\theta_{2} \\right)} + a_{3} \\cos{\\left(\\theta_{2} + \\theta_{3} \\right)}\\right) \\sin{\\left(\\theta_{3} \\right)}$"
     },
     "execution_count": 62,
     "metadata": {},
     "output_type": "execute_result"
    }
   ],
   "source": [
    "J11 = Matrix([\n",
    "    [-a2*sin(theta1)*cos(theta2)-a3*sin(theta1)*cos(theta2+theta3),-a2*cos(theta1)*sin(theta2)-a3*cos(theta1)*sin(theta2+theta3),\n",
    "     -a3*cos(theta1)*sin(theta2+theta3)],\n",
    "    [a2*cos(theta1)*cos(theta2)+a3*cos(theta1)*cos(theta2+theta3),\n",
    "     -a2*sin(theta1)*sin(theta2)-a3*sin(theta1)*sin(theta2+theta3),\n",
    "     -a3*sin(theta1)*sin(theta2+theta3)],\n",
    "    [0,a2*cos(theta2)+a3*cos(theta2+theta3),a3*cos(theta2+theta3)]\n",
    "])\n",
    "simplify(J11.det())"
   ],
   "metadata": {
    "collapsed": false
   }
  },
  {
   "cell_type": "code",
   "execution_count": null,
   "outputs": [],
   "source": [],
   "metadata": {
    "collapsed": false
   }
  },
  {
   "cell_type": "markdown",
   "source": [],
   "metadata": {
    "collapsed": false
   }
  }
 ],
 "metadata": {
  "kernelspec": {
   "display_name": "Python 3",
   "language": "python",
   "name": "python3"
  },
  "language_info": {
   "codemirror_mode": {
    "name": "ipython",
    "version": 2
   },
   "file_extension": ".py",
   "mimetype": "text/x-python",
   "name": "python",
   "nbconvert_exporter": "python",
   "pygments_lexer": "ipython2",
   "version": "2.7.6"
  }
 },
 "nbformat": 4,
 "nbformat_minor": 0
}
